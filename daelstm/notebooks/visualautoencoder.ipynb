{
 "cells": [
  {
   "cell_type": "code",
   "execution_count": 1,
   "metadata": {},
   "outputs": [],
   "source": [
    "#LSTM Auto Encoder model"
   ]
  },
  {
   "cell_type": "code",
   "execution_count": 10,
   "metadata": {},
   "outputs": [],
   "source": [
    "import os\n",
    "import subprocess\n",
    "classpath = os.environ['CLASSPATH']\n",
    "hadoop_path = os.path.join(os.environ['HADOOP_PREFIX'], 'bin', 'hadoop')\n",
    "hadoop_classpath = subprocess.check_output([hadoop_path, 'classpath', '--glob']).decode()\n",
    "os.environ['CLASSPATH']=classpath + os.pathsep + hadoop_classpath\n",
    "\n",
    "def getGpuDevices(max_number_of_gpus):\n",
    "    \"\"\"Finds available GPUs up to max_number_of_gpus\"\"\"\n",
    "    num_gpus=0\n",
    "    nodes = subprocess.check_output([\"nvidia-smi\", \"--format=csv,noheader,nounits\", \"--query-gpu=memory.total,memory.free\"]).decode()\n",
    "    gpu_info_arr = [x for x in nodes.split('\\n') if len(x) > 0]\n",
    "    cuda_visible_devices=[]\n",
    "\n",
    "    for cuda_visible_device, memory in enumerate(gpu_info_arr):\n",
    "        total_mem, free_mem = memory.split(',')\n",
    "\n",
    "        total_mem = total_mem.strip()\n",
    "        free_mem = free_mem.strip()\n",
    "\n",
    "        if (total_mem == free_mem):\n",
    "            cuda_visible_devices.append(cuda_visible_device)\n",
    "            num_gpus=num_gpus+1\n",
    "            if (num_gpus>=max_number_of_gpus):\n",
    "                break\n",
    "\n",
    "    return cuda_visible_devices"
   ]
  },
  {
   "cell_type": "code",
   "execution_count": 87,
   "metadata": {},
   "outputs": [],
   "source": [
    "import tensorflow as tf\n",
    "#import tensorflow_hub as hub\n",
    "import numpy as np\n",
    "import os\n",
    "import re\n",
    "import pandas as pd\n",
    "import sys"
   ]
  },
  {
   "cell_type": "code",
   "execution_count": 1,
   "metadata": {},
   "outputs": [],
   "source": [
    "import site\n",
    "site.addsitedir(\"./tmp\")\n",
    "from PIL import Image"
   ]
  },
  {
   "cell_type": "code",
   "execution_count": 2,
   "metadata": {},
   "outputs": [],
   "source": [
    "#!hdfs dfs -ls /user/fwaseem/UCSD_Anomaly_Dataset.tar.gz"
   ]
  },
  {
   "cell_type": "code",
   "execution_count": 3,
   "metadata": {},
   "outputs": [],
   "source": [
    "!hdfs dfs -copyToLocal /user/fwaseem/UCSD_Anomaly_Dataset.tar.gz /tmp/"
   ]
  },
  {
   "cell_type": "code",
   "execution_count": 4,
   "metadata": {},
   "outputs": [
    {
     "name": "stdout",
     "output_type": "stream",
     "text": [
      "/tmp/UCSD_Anomaly_Dataset.tar.gz\r\n"
     ]
    }
   ],
   "source": [
    "!ls /tmp/UCSD_Anomaly_Dataset.tar.gz"
   ]
  },
  {
   "cell_type": "code",
   "execution_count": 5,
   "metadata": {},
   "outputs": [],
   "source": [
    "!gunzip /tmp/UCSD_Anomaly_Dataset.tar.gz"
   ]
  },
  {
   "cell_type": "code",
   "execution_count": 6,
   "metadata": {},
   "outputs": [
    {
     "name": "stdout",
     "output_type": "stream",
     "text": [
      "/tmp/UCSD_Anomaly_Dataset.tar\r\n"
     ]
    }
   ],
   "source": [
    "!ls /tmp/UCSD_Anomaly_Dataset.tar"
   ]
  },
  {
   "cell_type": "code",
   "execution_count": 62,
   "metadata": {},
   "outputs": [],
   "source": [
    "#!tar xvf /tmp/UCSD_Anomaly_Dataset.tar"
   ]
  },
  {
   "cell_type": "code",
   "execution_count": 8,
   "metadata": {},
   "outputs": [
    {
     "name": "stdout",
     "output_type": "stream",
     "text": [
      "README.txt  README.txt~  UCSDped1  UCSDped2\r\n"
     ]
    }
   ],
   "source": [
    "!ls UCSD*"
   ]
  },
  {
   "cell_type": "code",
   "execution_count": 11,
   "metadata": {},
   "outputs": [
    {
     "name": "stdout",
     "output_type": "stream",
     "text": [
      "Reserved GPUs: 0,1\n",
      "2\n"
     ]
    }
   ],
   "source": [
    "# Try to allocate 2 GPUs\n",
    "# Note: if you want to allocate more, make sure to also increase3 the driver memory accordingly (27GB x num_gpus in Jet Blue, 160GB x num_gpus in Kessel/Polaris)\n",
    "gpu_list = getGpuDevices(2)\n",
    "\n",
    "# Set available GPUs for TensorFlow\n",
    "os.environ['CUDA_VISIBLE_DEVICES'] = ','.join(map(str, gpu_list))\n",
    "print(\"Reserved GPUs: {}\".format(os.environ['CUDA_VISIBLE_DEVICES']))\n",
    "print(len(gpu_list))"
   ]
  },
  {
   "cell_type": "code",
   "execution_count": 12,
   "metadata": {},
   "outputs": [
    {
     "name": "stdout",
     "output_type": "stream",
     "text": [
      "2.1.0\n"
     ]
    }
   ],
   "source": [
    "import tensorflow as tf\n",
    "print(tf.__version__)"
   ]
  },
  {
   "cell_type": "code",
   "execution_count": 13,
   "metadata": {},
   "outputs": [
    {
     "name": "stdout",
     "output_type": "stream",
     "text": [
      "WARNING:tensorflow:From <ipython-input-13-bdcb4b12cb27>:2: is_gpu_available (from tensorflow.python.framework.test_util) is deprecated and will be removed in a future version.\n",
      "Instructions for updating:\n",
      "Use `tf.config.list_physical_devices('GPU')` instead.\n"
     ]
    }
   ],
   "source": [
    "# Check that this is GPU instead of CPU version of TensorFlow\n",
    "assert(tf.test.is_gpu_available() == True)"
   ]
  },
  {
   "cell_type": "code",
   "execution_count": 14,
   "metadata": {},
   "outputs": [],
   "source": [
    "BASE = \"UCSD_Anomaly_Dataset.v1p2/UCSDped1/\""
   ]
  },
  {
   "cell_type": "code",
   "execution_count": 15,
   "metadata": {},
   "outputs": [],
   "source": [
    "#https://towardsdatascience.com/prototyping-an-anomaly-detection-system-for-videos-step-by-step-using-lstm-convolutional-4e06b7dcdd29\n",
    "# Our LSTM auto encoder is based on above article (with tensorflow version changes) and code samples but we will make architecture changes\n",
    "#http://www.svcl.ucsd.edu/projects/anomaly/dataset.html\n",
    "class Config:\n",
    "  DATASET_PATH =BASE + \"Train\"\n",
    "  BATCH_SIZE = 4\n",
    "  EPOCHS = 5\n",
    "  MODEL_PATH = \"anomaly-model.hdf5\""
   ]
  },
  {
   "cell_type": "code",
   "execution_count": 16,
   "metadata": {},
   "outputs": [],
   "source": [
    "from os import listdir\n",
    "from os.path import isfile, join, isdir\n",
    "import numpy as np\n",
    "from PIL import Image\n",
    "\n",
    "def get_clips_by_stride(stride, frames_list, sequence_size):\n",
    "    \"\"\" For data augmenting purposes.\n",
    "    Parameters\n",
    "    ----------\n",
    "    stride : int\n",
    "        The distance between two consecutive frames\n",
    "    frames_list : list\n",
    "        A list of sorted frames of shape 256 X 256\n",
    "    sequence_size: int\n",
    "        The size of the lstm sequence\n",
    "    Returns\n",
    "    -------\n",
    "    list\n",
    "        A list of clips , 10 frames each\n",
    "    \"\"\"\n",
    "    clips = []\n",
    "    sz = len(frames_list)\n",
    "    clip = np.zeros(shape=(sequence_size, 256, 256, 1))\n",
    "    cnt = 0\n",
    "    for start in range(0, stride):\n",
    "        for i in range(start, sz, stride):\n",
    "            clip[cnt, :, :, 0] = frames_list[i]\n",
    "            cnt = cnt + 1\n",
    "            if cnt == sequence_size:\n",
    "                clips.append(np.copy(clip))\n",
    "                cnt = 0\n",
    "    return clips\n",
    "\n",
    "def get_training_set():\n",
    "    \"\"\"\n",
    "    Returns\n",
    "    -------\n",
    "    list\n",
    "        A list of training sequences of shape (NUMBER_OF_SEQUENCES,SINGLE_SEQUENCE_SIZE,FRAME_WIDTH,FRAME_HEIGHT,1)\n",
    "    \"\"\"\n",
    "    clips = []\n",
    "    # loop over the training folders (Train000,Train001,..)\n",
    "    for f in sorted(listdir(Config.DATASET_PATH)):\n",
    "        directory_path = join(Config.DATASET_PATH, f)\n",
    "        if isdir(directory_path):\n",
    "            all_frames = []\n",
    "            # loop over all the images in the folder (0.tif,1.tif,..,199.tif)\n",
    "            for c in sorted(listdir(directory_path)):\n",
    "                img_path = join(directory_path, c)\n",
    "                if str(img_path)[-3:] == \"tif\":\n",
    "                    img = Image.open(img_path).resize((256, 256))\n",
    "                    img = np.array(img, dtype=np.float32) / 256.0\n",
    "                    all_frames.append(img)\n",
    "            # get the 10-frames sequences from the list of images after applying data augmentation\n",
    "            for stride in range(1, 3):\n",
    "                clips.extend(get_clips_by_stride(stride=stride, frames_list=all_frames, sequence_size=10))\n",
    "    return clips"
   ]
  },
  {
   "cell_type": "code",
   "execution_count": 17,
   "metadata": {},
   "outputs": [],
   "source": [
    "import tensorflow.keras\n",
    "from tensorflow.keras.layers import Conv2DTranspose, ConvLSTM2D, BatchNormalization, TimeDistributed, Conv2D\n",
    "from tensorflow.keras.models import Sequential, load_model\n",
    "from tensorflow.keras.layers import LayerNormalization\n",
    "\n",
    "def get_model(reload_model=True):\n",
    "    \"\"\"\n",
    "    Parameters\n",
    "    ----------\n",
    "    reload_model : bool\n",
    "        Load saved model or retrain it\n",
    "    \"\"\"\n",
    "    if not reload_model:\n",
    "        return load_model(Config.MODEL_PATH,custom_objects={'LayerNormalization': LayerNormalization})\n",
    "    training_set = get_training_set()\n",
    "    training_set = np.array(training_set)\n",
    "    seq = Sequential()\n",
    "    seq.add(TimeDistributed(Conv2D(128, (11, 11), strides=4, padding=\"same\"), batch_input_shape=(None, 10, 256, 256, 1)))\n",
    "    seq.add(LayerNormalization())\n",
    "    seq.add(TimeDistributed(Conv2D(64, (5, 5), strides=2, padding=\"same\")))\n",
    "    seq.add(LayerNormalization())\n",
    "    # # # # #\n",
    "    seq.add(ConvLSTM2D(64, (3, 3), padding=\"same\", return_sequences=True))\n",
    "    seq.add(LayerNormalization())\n",
    "    seq.add(ConvLSTM2D(32, (3, 3), padding=\"same\", return_sequences=True))\n",
    "    seq.add(LayerNormalization())\n",
    "    seq.add(ConvLSTM2D(64, (3, 3), padding=\"same\", return_sequences=True))\n",
    "    seq.add(LayerNormalization())\n",
    "    # # # # #\n",
    "    seq.add(TimeDistributed(Conv2DTranspose(64, (5, 5), strides=2, padding=\"same\")))\n",
    "    seq.add(LayerNormalization())\n",
    "    seq.add(TimeDistributed(Conv2DTranspose(128, (11, 11), strides=4, padding=\"same\")))\n",
    "    seq.add(LayerNormalization())\n",
    "    seq.add(TimeDistributed(Conv2D(1, (11, 11), activation=\"sigmoid\", padding=\"same\")))\n",
    "    print(seq.summary())\n",
    "    seq.compile(loss='mse', optimizer=tensorflow.keras.optimizers.Adam(lr=1e-4, decay=1e-5, epsilon=1e-6),  metrics=['accuracy'])\n",
    "    history = seq.fit(training_set, training_set,\n",
    "            batch_size=Config.BATCH_SIZE, epochs=Config.EPOCHS, shuffle=False)\n",
    "    seq.save(Config.MODEL_PATH)\n",
    "    return seq, history"
   ]
  },
  {
   "cell_type": "code",
   "execution_count": 18,
   "metadata": {},
   "outputs": [],
   "source": [
    "def get_single_test(test_path):\n",
    "    sz = 200\n",
    "    test = np.zeros(shape=(sz, 256, 256, 1))\n",
    "    cnt = 0\n",
    "    for f in sorted(listdir(test_path)):\n",
    "        if str(join(test_path, f))[-3:] == \"tif\":\n",
    "            img = Image.open(join(test_path, f)).resize((256, 256))\n",
    "            img = np.array(img, dtype=np.float32) / 256.0\n",
    "            test[cnt, :, :, 0] = img\n",
    "            cnt = cnt + 1\n",
    "    return test"
   ]
  },
  {
   "cell_type": "code",
   "execution_count": 19,
   "metadata": {},
   "outputs": [],
   "source": [
    "import matplotlib.pyplot as plt\n",
    "\n",
    "def evaluate(test_path, fileName):\n",
    "    model = get_model(False)\n",
    "    print(\"got model\")\n",
    "    test = get_single_test(test_path)\n",
    "    print(\"got test\")\n",
    "    sz = test.shape[0] - 10\n",
    "    sequences = np.zeros((sz, 10, 256, 256, 1))\n",
    "    # apply the sliding window technique to get the sequences\n",
    "    for i in range(0, sz):\n",
    "        clip = np.zeros((10, 256, 256, 1))\n",
    "        for j in range(0, 10):\n",
    "            clip[j] = test[i + j, :, :, :]\n",
    "        sequences[i] = clip\n",
    "\n",
    "    # get the reconstruction cost of all the sequences\n",
    "    reconstructed_sequences = model.predict(sequences,batch_size=4)\n",
    "    sequences_reconstruction_cost = np.array([np.linalg.norm(np.subtract(sequences[i],reconstructed_sequences[i])) for i in range(0,sz)])\n",
    "    sa = (sequences_reconstruction_cost - np.min(sequences_reconstruction_cost)) / np.max(sequences_reconstruction_cost)\n",
    "    sr = 1.0 - sa\n",
    "    np.save(fileName, sr) \n",
    "    # plot the regularity scores\n",
    "    plt.plot(sr)\n",
    "    plt.ylabel('regularity score Sr(t)')\n",
    "    plt.xlabel('frame t')\n",
    "    plt.show()"
   ]
  },
  {
   "cell_type": "code",
   "execution_count": 20,
   "metadata": {},
   "outputs": [
    {
     "name": "stdout",
     "output_type": "stream",
     "text": [
      "Faraz waseem 23\n"
     ]
    }
   ],
   "source": [
    "print(\"Faraz waseem 23\")"
   ]
  },
  {
   "cell_type": "code",
   "execution_count": 21,
   "metadata": {},
   "outputs": [
    {
     "name": "stdout",
     "output_type": "stream",
     "text": [
      "Model: \"sequential\"\n",
      "_________________________________________________________________\n",
      "Layer (type)                 Output Shape              Param #   \n",
      "=================================================================\n",
      "time_distributed (TimeDistri (None, 10, 64, 64, 128)   15616     \n",
      "_________________________________________________________________\n",
      "layer_normalization (LayerNo (None, 10, 64, 64, 128)   256       \n",
      "_________________________________________________________________\n",
      "time_distributed_1 (TimeDist (None, 10, 32, 32, 64)    204864    \n",
      "_________________________________________________________________\n",
      "layer_normalization_1 (Layer (None, 10, 32, 32, 64)    128       \n",
      "_________________________________________________________________\n",
      "conv_lst_m2d (ConvLSTM2D)    (None, 10, 32, 32, 64)    295168    \n",
      "_________________________________________________________________\n",
      "layer_normalization_2 (Layer (None, 10, 32, 32, 64)    128       \n",
      "_________________________________________________________________\n",
      "conv_lst_m2d_1 (ConvLSTM2D)  (None, 10, 32, 32, 32)    110720    \n",
      "_________________________________________________________________\n",
      "layer_normalization_3 (Layer (None, 10, 32, 32, 32)    64        \n",
      "_________________________________________________________________\n",
      "conv_lst_m2d_2 (ConvLSTM2D)  (None, 10, 32, 32, 64)    221440    \n",
      "_________________________________________________________________\n",
      "layer_normalization_4 (Layer (None, 10, 32, 32, 64)    128       \n",
      "_________________________________________________________________\n",
      "time_distributed_2 (TimeDist (None, 10, 64, 64, 64)    102464    \n",
      "_________________________________________________________________\n",
      "layer_normalization_5 (Layer (None, 10, 64, 64, 64)    128       \n",
      "_________________________________________________________________\n",
      "time_distributed_3 (TimeDist (None, 10, 256, 256, 128) 991360    \n",
      "_________________________________________________________________\n",
      "layer_normalization_6 (Layer (None, 10, 256, 256, 128) 256       \n",
      "_________________________________________________________________\n",
      "time_distributed_4 (TimeDist (None, 10, 256, 256, 1)   15489     \n",
      "=================================================================\n",
      "Total params: 1,958,209\n",
      "Trainable params: 1,958,209\n",
      "Non-trainable params: 0\n",
      "_________________________________________________________________\n",
      "None\n",
      "Train on 1360 samples\n",
      "Epoch 1/3\n",
      "1360/1360 [==============================] - 216s 159ms/sample - loss: 0.0103 - accuracy: 2.9706e-05\n",
      "Epoch 2/3\n",
      "1360/1360 [==============================] - 203s 150ms/sample - loss: 0.0035 - accuracy: 3.1654e-05\n",
      "Epoch 3/3\n",
      "1360/1360 [==============================] - 203s 150ms/sample - loss: 0.0025 - accuracy: 3.6396e-05\n"
     ]
    }
   ],
   "source": [
    "autoencoder_model, history = get_model()"
   ]
  },
  {
   "cell_type": "code",
   "execution_count": 3,
   "metadata": {},
   "outputs": [
    {
     "ename": "NameError",
     "evalue": "name 'autoencoder_model' is not defined",
     "output_type": "error",
     "traceback": [
      "\u001b[0;31m---------------------------------------------------------------------------\u001b[0m",
      "\u001b[0;31mNameError\u001b[0m                                 Traceback (most recent call last)",
      "\u001b[0;32m<ipython-input-3-8a710c155cf8>\u001b[0m in \u001b[0;36m<module>\u001b[0;34m()\u001b[0m\n\u001b[0;32m----> 1\u001b[0;31m \u001b[0mautoencoder_model\u001b[0m\u001b[0;34m\u001b[0m\u001b[0;34m\u001b[0m\u001b[0m\n\u001b[0m",
      "\u001b[0;31mNameError\u001b[0m: name 'autoencoder_model' is not defined"
     ]
    }
   ],
   "source": [
    "autoencoder_model"
   ]
  },
  {
   "cell_type": "code",
   "execution_count": 22,
   "metadata": {},
   "outputs": [],
   "source": [
    "import matplotlib.pyplot as plt"
   ]
  },
  {
   "cell_type": "code",
   "execution_count": 23,
   "metadata": {},
   "outputs": [
    {
     "name": "stdout",
     "output_type": "stream",
     "text": [
      "dict_keys(['loss', 'accuracy'])\n"
     ]
    }
   ],
   "source": [
    "# list all data in history e-05 = .007\n",
    "print(history.history.keys())"
   ]
  },
  {
   "cell_type": "code",
   "execution_count": 24,
   "metadata": {},
   "outputs": [
    {
     "data": {
      "text/plain": [
       "[<matplotlib.lines.Line2D at 0x7f33d1ffc7b8>]"
      ]
     },
     "execution_count": 24,
     "metadata": {},
     "output_type": "execute_result"
    },
    {
     "data": {
      "image/png": "[encoded data removed]",
      "text/plain": [
       "<Figure size 432x288 with 1 Axes>"
      ]
     },
     "metadata": {
      "needs_background": "light"
     },
     "output_type": "display_data"
    }
   ],
   "source": [
    "plt.ylabel('loss')\n",
    "plt.xlabel('epoch')\n",
    "plt.plot(history.history['loss'])"
   ]
  },
  {
   "cell_type": "code",
   "execution_count": 25,
   "metadata": {},
   "outputs": [
    {
     "data": {
      "text/plain": [
       "[<matplotlib.lines.Line2D at 0x7f33d1add518>]"
      ]
     },
     "execution_count": 25,
     "metadata": {},
     "output_type": "execute_result"
    },
    {
     "data": {
      "image/png": "[encoded data removed]",
      "text/plain": [
       "<Figure size 432x288 with 1 Axes>"
      ]
     },
     "metadata": {
      "needs_background": "light"
     },
     "output_type": "display_data"
    }
   ],
   "source": [
    "plt.ylabel('accuracy')\n",
    "plt.xlabel('epoch')\n",
    "plt.plot(history.history['accuracy'])"
   ]
  },
  {
   "cell_type": "code",
   "execution_count": 29,
   "metadata": {},
   "outputs": [
    {
     "name": "stdout",
     "output_type": "stream",
     "text": [
      "anomaly-model.hdf5\r\n"
     ]
    }
   ],
   "source": [
    "!ls anomaly-model.hdf5"
   ]
  },
  {
   "cell_type": "code",
   "execution_count": 84,
   "metadata": {},
   "outputs": [],
   "source": [
    "!hdfs dfs -chmod 777 /user/fwaseem/videoanomaly/result"
   ]
  },
  {
   "cell_type": "code",
   "execution_count": 20,
   "metadata": {},
   "outputs": [],
   "source": [
    "!hdfs dfs -copyToLocal   /user/fwaseem/videoanomaly/models/anomaly-model_v1.hdf5 anomaly-model.hdf5"
   ]
  },
  {
   "cell_type": "code",
   "execution_count": 21,
   "metadata": {},
   "outputs": [
    {
     "name": "stdout",
     "output_type": "stream",
     "text": [
      "Found 1 items\r\n",
      "-rw-------   3 fwaseem users   23639784 2021-05-12 17:12 /user/fwaseem/videoanomaly/models/anomaly-model_v1.hdf5\r\n"
     ]
    }
   ],
   "source": [
    "!hdfs dfs -ls /user/fwaseem/videoanomaly/models/"
   ]
  },
  {
   "cell_type": "code",
   "execution_count": 22,
   "metadata": {},
   "outputs": [],
   "source": [
    "loaded_model = tf.keras.models.load_model('anomaly-model.hdf5')"
   ]
  },
  {
   "cell_type": "code",
   "execution_count": 23,
   "metadata": {},
   "outputs": [
    {
     "name": "stdout",
     "output_type": "stream",
     "text": [
      "faraz 13\n"
     ]
    }
   ],
   "source": [
    "print(\"faraz 13\")"
   ]
  },
  {
   "cell_type": "code",
   "execution_count": 59,
   "metadata": {},
   "outputs": [],
   "source": [
    "!hdfs dfs -copyFromLocal   /tmp/train*   /user/fwaseem/videoanomaly/result"
   ]
  },
  {
   "cell_type": "code",
   "execution_count": 60,
   "metadata": {},
   "outputs": [
    {
     "name": "stdout",
     "output_type": "stream",
     "text": [
      "-rw-------   3 fwaseem users       1648 2021-05-17 03:16 /user/fwaseem/videoanomaly/result/train001_pickle.npy\r\n",
      "-rw-------   3 fwaseem users       1648 2021-05-17 03:17 /user/fwaseem/videoanomaly/result/train002_pickle.npy\r\n",
      "-rw-------   3 fwaseem users       1648 2021-05-17 03:17 /user/fwaseem/videoanomaly/result/train003_pickle.npy\r\n",
      "-rw-------   3 fwaseem users       1648 2021-05-17 03:17 /user/fwaseem/videoanomaly/result/train004_pickle.npy\r\n",
      "-rw-------   3 fwaseem users       1648 2021-05-17 03:17 /user/fwaseem/videoanomaly/result/train005_pickle.npy\r\n",
      "-rw-------   3 fwaseem users       1648 2021-05-17 03:17 /user/fwaseem/videoanomaly/result/train006_pickle.npy\r\n",
      "-rw-------   3 fwaseem users       1648 2021-05-17 03:17 /user/fwaseem/videoanomaly/result/train007_pickle.npy\r\n",
      "-rw-------   3 fwaseem users       1648 2021-05-17 03:17 /user/fwaseem/videoanomaly/result/train008_pickle.npy\r\n",
      "-rw-------   3 fwaseem users       1648 2021-05-17 03:17 /user/fwaseem/videoanomaly/result/train009_pickle.npy\r\n",
      "-rw-------   3 fwaseem users       1648 2021-05-17 03:17 /user/fwaseem/videoanomaly/result/train010_pickle.npy\r\n",
      "-rw-------   3 fwaseem users       1648 2021-05-17 03:17 /user/fwaseem/videoanomaly/result/train011_pickle.npy\r\n",
      "-rw-------   3 fwaseem users       1648 2021-05-17 03:17 /user/fwaseem/videoanomaly/result/train012_pickle.npy\r\n",
      "-rw-------   3 fwaseem users       1648 2021-05-17 03:17 /user/fwaseem/videoanomaly/result/train013_pickle.npy\r\n",
      "-rw-------   3 fwaseem users       1648 2021-05-17 03:17 /user/fwaseem/videoanomaly/result/train014_pickle.npy\r\n",
      "-rw-------   3 fwaseem users       1648 2021-05-17 03:17 /user/fwaseem/videoanomaly/result/train015_pickle.npy\r\n",
      "-rw-------   3 fwaseem users       1648 2021-05-17 03:17 /user/fwaseem/videoanomaly/result/train016_pickle.npy\r\n",
      "-rw-------   3 fwaseem users       1648 2021-05-17 03:17 /user/fwaseem/videoanomaly/result/train017_pickle.npy\r\n",
      "-rw-------   3 fwaseem users       1648 2021-05-17 03:17 /user/fwaseem/videoanomaly/result/train018_pickle.npy\r\n",
      "-rw-------   3 fwaseem users       1648 2021-05-17 03:17 /user/fwaseem/videoanomaly/result/train020_pickle.npy\r\n",
      "-rw-------   3 fwaseem users       1648 2021-05-17 03:17 /user/fwaseem/videoanomaly/result/train021_pickle.npy\r\n",
      "-rw-------   3 fwaseem users       1648 2021-05-17 03:17 /user/fwaseem/videoanomaly/result/train022_pickle.npy\r\n",
      "-rw-------   3 fwaseem users       1648 2021-05-17 03:17 /user/fwaseem/videoanomaly/result/train023_pickle.npy\r\n",
      "-rw-------   3 fwaseem users       1648 2021-05-17 03:17 /user/fwaseem/videoanomaly/result/train024_pickle.npy\r\n",
      "-rw-------   3 fwaseem users       1648 2021-05-17 03:17 /user/fwaseem/videoanomaly/result/train026_pickle.npy\r\n",
      "-rw-------   3 fwaseem users       1648 2021-05-17 03:17 /user/fwaseem/videoanomaly/result/train027_pickle.npy\r\n",
      "-rw-------   3 fwaseem users       1648 2021-05-17 03:17 /user/fwaseem/videoanomaly/result/train028_pickle.npy\r\n",
      "-rw-------   3 fwaseem users       1648 2021-05-17 03:17 /user/fwaseem/videoanomaly/result/train029_pickle.npy\r\n",
      "-rw-------   3 fwaseem users       1648 2021-05-17 03:17 /user/fwaseem/videoanomaly/result/train030_pickle.npy\r\n",
      "-rw-------   3 fwaseem users       1648 2021-05-17 03:17 /user/fwaseem/videoanomaly/result/train032_pickle.npy\r\n",
      "-rw-------   3 fwaseem users       1648 2021-05-17 03:17 /user/fwaseem/videoanomaly/result/train033_pickle.npy\r\n"
     ]
    }
   ],
   "source": [
    "!hdfs dfs -ls /user/fwaseem/videoanomaly/result/train*"
   ]
  },
  {
   "cell_type": "code",
   "execution_count": 58,
   "metadata": {},
   "outputs": [
    {
     "name": "stdout",
     "output_type": "stream",
     "text": [
      "got model\n",
      "got test\n"
     ]
    },
    {
     "data": {
      "image/png": "[encoded data removed]",
      "text/plain": [
       "<Figure size 432x288 with 1 Axes>"
      ]
     },
     "metadata": {
      "needs_background": "light"
     },
     "output_type": "display_data"
    }
   ],
   "source": [
    "evaluate(BASE + \"/Train/Train033\", \"/tmp/train033_pickle\")"
   ]
  },
  {
   "cell_type": "code",
   "execution_count": 40,
   "metadata": {},
   "outputs": [
    {
     "name": "stdout",
     "output_type": "stream",
     "text": [
      "/tmp/test25_pickle.npy\r\n"
     ]
    }
   ],
   "source": [
    "!ls /tmp/test25_pickle*"
   ]
  },
  {
   "cell_type": "code",
   "execution_count": 43,
   "metadata": {},
   "outputs": [],
   "source": [
    "#reading a file in python\n",
    "tmp25 = np.load(\"/tmp/test25_pickle.npy\")"
   ]
  },
  {
   "cell_type": "code",
   "execution_count": 44,
   "metadata": {},
   "outputs": [
    {
     "data": {
      "text/plain": [
       "array([0.99545827, 0.99581265, 0.99580097, 0.99616875, 0.99656446,\n",
       "       0.99759268, 0.99853517, 0.99921081, 0.99845909, 0.99755507,\n",
       "       0.99614101, 0.99540893, 0.99534626, 0.99571263, 0.99634702,\n",
       "       0.99753508, 0.99891187, 1.        , 0.99957644, 0.99785888,\n",
       "       0.99436951, 0.99056555, 0.98639572, 0.9822603 , 0.979693  ,\n",
       "       0.97678412, 0.9736737 , 0.97179187, 0.97061771, 0.96964811,\n",
       "       0.96979564, 0.97206242, 0.97318137, 0.97423931, 0.97432867,\n",
       "       0.97530698, 0.97591831, 0.97487195, 0.97398176, 0.97202853,\n",
       "       0.96907989, 0.96718519, 0.96632512, 0.96490533, 0.96253208,\n",
       "       0.96081839, 0.95935576, 0.9599316 , 0.96021675, 0.96240045,\n",
       "       0.96333933, 0.96303226, 0.96179047, 0.95968752, 0.95813749,\n",
       "       0.95583202, 0.95468015, 0.95274631, 0.95181633, 0.9496104 ,\n",
       "       0.9477773 , 0.94653211, 0.94608187, 0.94544815, 0.94390348,\n",
       "       0.93972199, 0.93710705, 0.93677359, 0.93545948, 0.93311427,\n",
       "       0.93041173, 0.92839042, 0.92981272, 0.92978578, 0.92857787,\n",
       "       0.92640265, 0.9243351 , 0.92247402, 0.92223008, 0.92180942,\n",
       "       0.92268221, 0.92318313, 0.92435497, 0.9256929 , 0.92806251,\n",
       "       0.92982701, 0.93136727, 0.93216301, 0.93246343, 0.93396728,\n",
       "       0.93479165, 0.93551119, 0.93720014, 0.94036024, 0.94166393,\n",
       "       0.94345313, 0.94153184, 0.93918264, 0.93727912, 0.93401506,\n",
       "       0.9315193 , 0.92962905, 0.92794733, 0.92652779, 0.92530695,\n",
       "       0.92122199, 0.91937171, 0.91785062, 0.91712641, 0.91449307,\n",
       "       0.91067948, 0.90794309, 0.90525739, 0.90356486, 0.90261376,\n",
       "       0.90186856, 0.9018041 , 0.90201161, 0.90021727, 0.89874949,\n",
       "       0.89403794, 0.88849839, 0.88173869, 0.87597918, 0.87521639,\n",
       "       0.88173015, 0.88905313, 0.8969932 , 0.90613445, 0.91553485,\n",
       "       0.9264203 , 0.93748014, 0.94658823, 0.95663732, 0.96416778,\n",
       "       0.96755655, 0.97118538, 0.97371792, 0.97686578, 0.9771188 ,\n",
       "       0.97665746, 0.97597452, 0.97498049, 0.97430109, 0.97382124,\n",
       "       0.97362803, 0.97353154, 0.97375458, 0.97375251, 0.97303087,\n",
       "       0.9710505 , 0.96988552, 0.96986488, 0.968636  , 0.96747009,\n",
       "       0.96643517, 0.96495684, 0.96363162, 0.96214731, 0.96069439,\n",
       "       0.96030053, 0.96123696, 0.96301334, 0.96529183, 0.9679274 ,\n",
       "       0.9703478 , 0.97174373, 0.97231176, 0.97360948, 0.97420754,\n",
       "       0.97397103, 0.9737473 , 0.97380057, 0.97351547, 0.97290779,\n",
       "       0.97240293, 0.97209124, 0.97071203, 0.96976228, 0.97018891,\n",
       "       0.96980934, 0.96925215, 0.96864888, 0.96856224, 0.96851225,\n",
       "       0.96853748, 0.96796774, 0.96904257, 0.96969158, 0.97082112])"
      ]
     },
     "execution_count": 44,
     "metadata": {},
     "output_type": "execute_result"
    }
   ],
   "source": [
    "tmp25"
   ]
  },
  {
   "cell_type": "code",
   "execution_count": 80,
   "metadata": {},
   "outputs": [
    {
     "name": "stdout",
     "output_type": "stream",
     "text": [
      "got model\n",
      "got test\n"
     ]
    },
    {
     "data": {
      "image/png": "[encoded data removed]",
      "text/plain": [
       "<Figure size 432x288 with 1 Axes>"
      ]
     },
     "metadata": {
      "needs_background": "light"
     },
     "output_type": "display_data"
    }
   ],
   "source": [
    "evaluate(BASE + \"/Test/Test036\", \"/tmp/test036_pickle\")"
   ]
  },
  {
   "cell_type": "code",
   "execution_count": 60,
   "metadata": {},
   "outputs": [
    {
     "name": "stdout",
     "output_type": "stream",
     "text": [
      "got model\n",
      "got test\n"
     ]
    },
    {
     "data": {
      "image/png": "[encoded data removed]",
      "text/plain": [
       "<Figure size 432x288 with 1 Axes>"
      ]
     },
     "metadata": {
      "needs_background": "light"
     },
     "output_type": "display_data"
    }
   ],
   "source": [
    "evaluate(BASE + \"/Test/Test024\")"
   ]
  },
  {
   "cell_type": "code",
   "execution_count": 61,
   "metadata": {},
   "outputs": [
    {
     "name": "stdout",
     "output_type": "stream",
     "text": [
      "got model\n",
      "got test\n"
     ]
    },
    {
     "data": {
      "image/png": "[encoded data removed]",
      "text/plain": [
       "<Figure size 432x288 with 1 Axes>"
      ]
     },
     "metadata": {
      "needs_background": "light"
     },
     "output_type": "display_data"
    }
   ],
   "source": [
    "evaluate(BASE + \"/Test/Test005\")"
   ]
  },
  {
   "cell_type": "code",
   "execution_count": null,
   "metadata": {},
   "outputs": [],
   "source": []
  }
 ],
 "metadata": {
  "kernel_args": {
   "conf": {
    "spark.driver.maxResultSize": "8G",
    "spark.oath.dockerImage": "ml/rhel8_mlbundle:2020.02.1"
   },
   "driver-memory": "320G",
   "executor-cores": "1",
   "num-executors": "4",
   "queue": "gpu",
   "version": "current"
  },
  "kernelspec": {
   "display_name": "PySpark 3 (Beta)",
   "language": "",
   "name": "pysparkkernel3"
  },
  "language_info": {
   "codemirror_mode": {
    "name": "python",
    "version": 3
   },
   "mimetype": "text/x-python",
   "name": "pyspark3",
   "pygments_lexer": "ipython2",
   "version": "1.0"
  },
  "toc": {
   "base_numbering": 1,
   "nav_menu": {},
   "number_sections": true,
   "sideBar": true,
   "skip_h1_title": false,
   "title_cell": "Table of Contents",
   "title_sidebar": "Contents",
   "toc_cell": false,
   "toc_position": {},
   "toc_section_display": true,
   "toc_window_display": false
  }
 },
 "nbformat": 4,
 "nbformat_minor": 4
}
